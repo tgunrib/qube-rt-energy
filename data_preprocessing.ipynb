{
 "cells": [
  {
   "cell_type": "code",
   "execution_count": 2,
   "metadata": {
    "collapsed": true
   },
   "outputs": [],
   "source": [
    "import pandas as pd\n",
    "import openpyxl as xl\n",
    "import sklearn\n"
   ]
  },
  {
   "cell_type": "code",
   "execution_count": 3,
   "outputs": [
    {
     "name": "stdout",
     "output_type": "stream",
     "text": [
      "      DAY_ID COUNTRY  DE_CONSUMPTION  FR_CONSUMPTION  DE_FR_EXCHANGE  \\\n",
      "ID                                                                     \n",
      "2049     501      FR       -0.022399       -1.003452       -0.022063   \n",
      "1924     687      FR        1.395035        1.978665        1.021305   \n",
      "297      720      DE       -0.983324       -0.849198       -0.839586   \n",
      "1520     467      FR       -0.295296       -0.765120       -0.717490   \n",
      "1546     144      FR       -0.234965       -0.677085        0.399588   \n",
      "\n",
      "      FR_DE_EXCHANGE  DE_NET_EXPORT  FR_NET_EXPORT  DE_NET_IMPORT  \\\n",
      "ID                                                                  \n",
      "2049        0.022063      -0.573520      -1.130838       0.573520   \n",
      "1924       -1.021305      -0.622021      -1.682587       0.622021   \n",
      "297         0.839586      -0.270870       0.563230       0.270870   \n",
      "1520        0.717490      -1.117139      -0.200305       1.117139   \n",
      "1546       -0.399588       0.183998      -0.986235      -0.183998   \n",
      "\n",
      "      FR_NET_IMPORT  ...  FR_RESIDUAL_LOAD   DE_RAIN   FR_RAIN   DE_WIND  \\\n",
      "ID                   ...                                                   \n",
      "2049       1.130838  ...         -1.183194 -1.240300 -0.770457  1.522331   \n",
      "1924       1.682587  ...          1.947273 -0.480700 -0.313338  0.431134   \n",
      "297       -0.563230  ...         -0.976974 -1.114838 -0.507570 -0.499409   \n",
      "1520       0.200305  ...         -0.860628 -0.962519 -0.193837 -0.871600   \n",
      "1546       0.986235  ...         -0.586051 -1.658394 -0.529800 -0.318920   \n",
      "\n",
      "       FR_WIND   DE_TEMP   FR_TEMP   GAS_RET  COAL_RET  CARBON_RET  \n",
      "ID                                                                  \n",
      "2049  0.828412  0.437419  1.831241 -0.659091  0.047114   -0.490365  \n",
      "1924  0.487608  0.684884  0.114836  0.535974  0.743338    0.204952  \n",
      "297  -0.236249  0.350938 -0.417514  0.911652 -0.296168    1.073948  \n",
      "1520 -0.917234  0.102046  0.472708  0.891049  0.861408    1.124457  \n",
      "1546 -1.220760 -0.512991  0.147507  1.889739  0.498226    0.681739  \n",
      "\n",
      "[5 rows x 34 columns]\n"
     ]
    }
   ],
   "source": [
    "x_train_data = pd.read_csv(\"X_train_NHkHMNU.csv\", index_col='ID').dropna()\n",
    "x_test_data = pd.read_csv(\"X_test_final.csv\", index_col='ID').dropna()\n",
    "y_train_data = pd.read_csv(\"y_train_ZAN5mwg.csv\", index_col='ID').dropna()\n",
    "y_test_data = pd.read_csv(\"y_test_random_final.csv\", index_col='ID').dropna()\n",
    "print(x_train_data.head())"
   ],
   "metadata": {
    "collapsed": false
   }
  },
  {
   "cell_type": "code",
   "execution_count": 8,
   "outputs": [
    {
     "name": "stdout",
     "output_type": "stream",
     "text": [
      "(1276, 35)\n",
      "      DAY_ID COUNTRY  DE_CONSUMPTION  FR_CONSUMPTION  DE_FR_EXCHANGE  \\\n",
      "ID                                                                     \n",
      "2049     501      FR       -0.022399       -1.003452       -0.022063   \n",
      "1924     687      FR        1.395035        1.978665        1.021305   \n",
      "297      720      DE       -0.983324       -0.849198       -0.839586   \n",
      "1520     467      FR       -0.295296       -0.765120       -0.717490   \n",
      "1546     144      FR       -0.234965       -0.677085        0.399588   \n",
      "\n",
      "      FR_DE_EXCHANGE  DE_NET_EXPORT  FR_NET_EXPORT  DE_NET_IMPORT  \\\n",
      "ID                                                                  \n",
      "2049        0.022063      -0.573520      -1.130838       0.573520   \n",
      "1924       -1.021305      -0.622021      -1.682587       0.622021   \n",
      "297         0.839586      -0.270870       0.563230       0.270870   \n",
      "1520        0.717490      -1.117139      -0.200305       1.117139   \n",
      "1546       -0.399588       0.183998      -0.986235      -0.183998   \n",
      "\n",
      "      FR_NET_IMPORT  ...   DE_RAIN   FR_RAIN   DE_WIND   FR_WIND   DE_TEMP  \\\n",
      "ID                   ...                                                     \n",
      "2049       1.130838  ... -1.240300 -0.770457  1.522331  0.828412  0.437419   \n",
      "1924       1.682587  ... -0.480700 -0.313338  0.431134  0.487608  0.684884   \n",
      "297       -0.563230  ... -1.114838 -0.507570 -0.499409 -0.236249  0.350938   \n",
      "1520       0.200305  ... -0.962519 -0.193837 -0.871600 -0.917234  0.102046   \n",
      "1546       0.986235  ... -1.658394 -0.529800 -0.318920 -1.220760 -0.512991   \n",
      "\n",
      "       FR_TEMP   GAS_RET  COAL_RET  CARBON_RET    TARGET  \n",
      "ID                                                        \n",
      "2049  1.831241 -0.659091  0.047114   -0.490365 -0.112516  \n",
      "1924  0.114836  0.535974  0.743338    0.204952 -0.180840  \n",
      "297  -0.417514  0.911652 -0.296168    1.073948 -0.260356  \n",
      "1520  0.472708  0.891049  0.861408    1.124457  0.932105  \n",
      "1546  0.147507  1.889739  0.498226    0.681739  0.192680  \n",
      "\n",
      "[5 rows x 35 columns]\n",
      "(567, 35)\n",
      "      DAY_ID COUNTRY  DE_CONSUMPTION  FR_CONSUMPTION  DE_FR_EXCHANGE  \\\n",
      "ID                                                                     \n",
      "1115     241      FR        0.340083       -0.433604       -0.423521   \n",
      "1202    1214      FR        0.803209        0.780411        0.601610   \n",
      "1194    1047      FR        0.795540        0.721954        1.179158   \n",
      "1135     842      FR        0.949714        0.420236        0.617391   \n",
      "1131     518      FR        0.770973        0.569238       -0.499317   \n",
      "\n",
      "      FR_DE_EXCHANGE  DE_NET_EXPORT  FR_NET_EXPORT  DE_NET_IMPORT  \\\n",
      "ID                                                                  \n",
      "1115        0.423521       0.165333       0.519419      -0.165333   \n",
      "1202       -0.601610       0.342802       0.555367      -0.342802   \n",
      "1194       -1.179158       1.620928       0.666901      -1.620928   \n",
      "1135       -0.617391       0.608561      -0.240856      -0.608561   \n",
      "1131        0.499317      -0.223383      -0.040059       0.223383   \n",
      "\n",
      "      FR_NET_IMPORT  ...   DE_RAIN   FR_RAIN   DE_WIND   FR_WIND   DE_TEMP  \\\n",
      "ID                   ...                                                     \n",
      "1115      -0.519419  ... -0.513180 -0.182048 -0.982546 -0.876632  0.880491   \n",
      "1202      -0.555367  ... -0.340595 -0.301094 -0.759816 -1.221443 -0.616617   \n",
      "1194      -0.666901  ...  0.796475 -0.367248  0.376055 -0.483363  0.865138   \n",
      "1135       0.240856  ... -0.230291 -0.609203 -0.744986 -1.196282  0.176557   \n",
      "1131       0.040059  ... -0.195220 -0.364996 -0.805697 -0.547137  0.258323   \n",
      "\n",
      "       FR_TEMP   GAS_RET  COAL_RET  CARBON_RET    TARGET  \n",
      "ID                                                        \n",
      "1115  0.692242  0.569419 -0.029697   -0.929256 -0.052395  \n",
      "1202 -0.737496  0.251251  0.753646    0.664086 -0.112118  \n",
      "1194  0.120079 -1.485642 -0.326450   -0.349747  1.050431  \n",
      "1135  0.312557 -2.219626 -0.509272   -0.488341  0.751565  \n",
      "1131  0.013095 -2.187921  1.276393    0.021143 -0.207570  \n",
      "\n",
      "[5 rows x 35 columns]\n"
     ]
    }
   ],
   "source": [
    "train_data = pd.merge(x_train_data, y_train_data, how='inner', on='ID')\n",
    "print(train_data.shape)\n",
    "print(train_data.head())\n",
    "test_data = pd.merge(x_test_data, y_test_data, how='inner', on='ID')\n",
    "print(test_data.shape)\n",
    "print(test_data.head())"
   ],
   "metadata": {
    "collapsed": false
   }
  },
  {
   "cell_type": "code",
   "execution_count": null,
   "outputs": [],
   "source": [
    "train_data_country = train_data.COUNTRY\n",
    "test_data.country = test_data.COUNTRY"
   ],
   "metadata": {
    "collapsed": false
   }
  }
 ],
 "metadata": {
  "kernelspec": {
   "display_name": "Python 3",
   "language": "python",
   "name": "python3"
  },
  "language_info": {
   "codemirror_mode": {
    "name": "ipython",
    "version": 2
   },
   "file_extension": ".py",
   "mimetype": "text/x-python",
   "name": "python",
   "nbconvert_exporter": "python",
   "pygments_lexer": "ipython2",
   "version": "2.7.6"
  }
 },
 "nbformat": 4,
 "nbformat_minor": 0
}
